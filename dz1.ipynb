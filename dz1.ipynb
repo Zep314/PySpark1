{
  "nbformat": 4,
  "nbformat_minor": 0,
  "metadata": {
    "colab": {
      "provenance": []
    },
    "kernelspec": {
      "name": "python3",
      "display_name": "Python 3"
    },
    "language_info": {
      "name": "python"
    }
  },
  "cells": [
    {
      "cell_type": "markdown",
      "source": [
        "# **Spark Apache (Семинары)**\n",
        "## **Урок 1. SQL & BigData**\n",
        "### Задание:\n",
        "    1. Условие: найти самую длинную последовательность упорядоченных чисел в RDD и вывести ее"
      ],
      "metadata": {
        "id": "RLI_A_lpPNc1"
      }
    },
    {
      "cell_type": "markdown",
      "source": [
        "## Решение: [тут](#dz1)\n"
      ],
      "metadata": {
        "id": "8nFmGeP6PrF6"
      }
    },
    {
      "cell_type": "markdown",
      "source": [
        "## Семинар"
      ],
      "metadata": {
        "id": "O76c5A_KOS5t"
      }
    },
    {
      "cell_type": "code",
      "source": [
        "! pip install pyspark"
      ],
      "metadata": {
        "colab": {
          "base_uri": "https://localhost:8080/"
        },
        "id": "VVEuzJXHPuUw",
        "outputId": "130063a3-bac4-4e2f-dae6-5262fdbadf17"
      },
      "execution_count": null,
      "outputs": [
        {
          "output_type": "stream",
          "name": "stdout",
          "text": [
            "Requirement already satisfied: pyspark in /usr/local/lib/python3.10/dist-packages (3.5.1)\n",
            "Requirement already satisfied: py4j==0.10.9.7 in /usr/local/lib/python3.10/dist-packages (from pyspark) (0.10.9.7)\n"
          ]
        }
      ]
    },
    {
      "cell_type": "code",
      "source": [
        "import pyspark\n",
        "from pyspark import SparkContext\n",
        "from pyspark.sql import SparkSession"
      ],
      "metadata": {
        "id": "bvU_zgZcQBCj"
      },
      "execution_count": null,
      "outputs": []
    },
    {
      "cell_type": "markdown",
      "source": [
        "### Задание 1. Найти среднее значение элеменов RDD"
      ],
      "metadata": {
        "id": "H6PSAAPzRCCl"
      }
    },
    {
      "cell_type": "code",
      "source": [
        "sc = SparkContext(\"local\", \"Average RDD\")\n",
        "rdd = sc.parallelize([1, 2, 3, 4, 5])\n",
        "mean_value = rdd.mean()\n",
        "print(\"Среднее значение элементов в RDD:\", mean_value)"
      ],
      "metadata": {
        "colab": {
          "base_uri": "https://localhost:8080/"
        },
        "id": "KZ6aGgRiQXmG",
        "outputId": "f1f1af8b-716d-4b04-bd1d-5b77a004bd1e"
      },
      "execution_count": null,
      "outputs": [
        {
          "output_type": "stream",
          "name": "stdout",
          "text": [
            "Среднее значение элементов в RDD: 3.0\n"
          ]
        }
      ]
    },
    {
      "cell_type": "code",
      "source": [
        "active_session = SparkSession.active\n",
        "print(active_session)"
      ],
      "metadata": {
        "colab": {
          "base_uri": "https://localhost:8080/"
        },
        "id": "jDOG_s-_Q8TQ",
        "outputId": "c3b4e3b6-c56e-4a40-bdf1-7b3ac56d74ef"
      },
      "execution_count": null,
      "outputs": [
        {
          "output_type": "stream",
          "name": "stdout",
          "text": [
            "<bound method SparkSession.active of <class 'pyspark.sql.session.SparkSession'>>\n"
          ]
        }
      ]
    },
    {
      "cell_type": "code",
      "source": [
        "sc.stop()"
      ],
      "metadata": {
        "id": "hlBfQiGWRXUw"
      },
      "execution_count": null,
      "outputs": []
    },
    {
      "cell_type": "markdown",
      "source": [
        "### Задание 2. Найти наибольший элемент RDD"
      ],
      "metadata": {
        "id": "HO8OPjgORc9S"
      }
    },
    {
      "cell_type": "code",
      "source": [
        "sc = SparkContext(\"local\", \"Max RDD\")\n",
        "rdd = sc.parallelize([100, 25, 30, 40, 55, 70])\n",
        "max_value = rdd.max()\n",
        "print(\"Наибольший элемент в RDD:\", max_value)"
      ],
      "metadata": {
        "colab": {
          "base_uri": "https://localhost:8080/"
        },
        "id": "FFhP7-4JRa8g",
        "outputId": "df3a49fd-1ad9-4bb9-e92e-ee0924c25b35"
      },
      "execution_count": null,
      "outputs": [
        {
          "output_type": "stream",
          "name": "stdout",
          "text": [
            "Наибольший элемент в RDD: 100\n"
          ]
        }
      ]
    },
    {
      "cell_type": "code",
      "source": [
        "sc.stop()"
      ],
      "metadata": {
        "id": "trL7Xm6HSBzA"
      },
      "execution_count": null,
      "outputs": []
    },
    {
      "cell_type": "markdown",
      "source": [
        "### Задание 3. Подсчитать количество элементов, удовлетворяющих определенному условию"
      ],
      "metadata": {
        "id": "Nu6dFIeFSJoK"
      }
    },
    {
      "cell_type": "code",
      "source": [
        "sc = SparkContext(\"local\", \"Filter RDD\")\n",
        "rdd = sc.parallelize([1, 2, 3, 4, 5, 6, 7, 8, 9, 10])\n",
        "filter_rdd = rdd.filter(lambda x: x > 5)\n",
        "count = filter_rdd.count()\n",
        "print(\"Количество элементов, больше 5:\", count)"
      ],
      "metadata": {
        "colab": {
          "base_uri": "https://localhost:8080/"
        },
        "id": "Igzb-UYiSI-S",
        "outputId": "9002cc1d-1387-4276-cc6a-891c1f768535"
      },
      "execution_count": null,
      "outputs": [
        {
          "output_type": "stream",
          "name": "stdout",
          "text": [
            "Количество элементов, больше 5: 5\n"
          ]
        }
      ]
    },
    {
      "cell_type": "code",
      "source": [
        "sc.stop()"
      ],
      "metadata": {
        "id": "vTheUghBTZSl"
      },
      "execution_count": null,
      "outputs": []
    },
    {
      "cell_type": "markdown",
      "source": [
        "### Задание 4. Задание на группировку по ключу\n"
      ],
      "metadata": {
        "id": "has7eoJ8SWlJ"
      }
    },
    {
      "cell_type": "markdown",
      "source": [
        "Дан набор данных с информацией о продажах товаров в магазине в следующем формате: (товар, магазин, количество). Необходимо сгруппировать данные по по товару и найти суммарное количество проданных товаров по каждому товару."
      ],
      "metadata": {
        "id": "FG5qrPsxWuIS"
      }
    },
    {
      "cell_type": "code",
      "source": [
        "sc = SparkContext(\"local\", \"advanced1\")\n",
        "data = [(\"apple\", \"store1\", 10), (\"apple\", \"store2\", 15),\n",
        "        (\"banana\", \"store1\", 20), (\"banana\", \"store2\", 25),\n",
        "        (\"peach\", \"store1\", 5), (\"peach\", \"store2\", 10),\n",
        "        (\"peach\", \"store3\", 25),]\n",
        "rdd = sc.parallelize(data)\n",
        "\n",
        "grouped_rdd = rdd.map(lambda x: (x[0], x[2])).reduceByKey(lambda a, b: a + b)\n",
        "grouped_rdd.collect()"
      ],
      "metadata": {
        "colab": {
          "base_uri": "https://localhost:8080/"
        },
        "id": "7NvUf6iHTnya",
        "outputId": "4d707b08-b89c-49fe-9034-1a0c779db1fd"
      },
      "execution_count": null,
      "outputs": [
        {
          "output_type": "execute_result",
          "data": {
            "text/plain": [
              "[('apple', 25), ('banana', 45), ('peach', 40)]"
            ]
          },
          "metadata": {},
          "execution_count": 10
        }
      ]
    },
    {
      "cell_type": "code",
      "source": [
        "sc.stop()"
      ],
      "metadata": {
        "id": "KbK-_NuWV7pR"
      },
      "execution_count": null,
      "outputs": []
    },
    {
      "cell_type": "markdown",
      "source": [
        "### Задание 5. Задание на аггрегацию по ключу\n"
      ],
      "metadata": {
        "id": "HcDlUG_BSdS6"
      }
    },
    {
      "cell_type": "markdown",
      "source": [
        "Дан набор данных с информацией о продажах товаров в магазине в следующем формате: (магазин, товар, количество, цена). Необходимо найти общую выручку от продаж каждого товара в каждом магазине"
      ],
      "metadata": {
        "id": "abdMsuhvWzwn"
      }
    },
    {
      "cell_type": "code",
      "source": [
        "sc = SparkContext(\"local\", \"advanced2\")\n",
        "data = [(\"store1\", \"apple\", 10, 2), (\"store2\", \"apple\", 15, 2.5),\n",
        "        (\"store1\", \"banana\", 20, 1.5), (\"store2\", \"banana\", 25, 1.8),\n",
        "        (\"store1\", \"watermelon\", 3, 5), (\"store2\", \"watermelon\", 2, 4),]\n",
        "rdd = sc.parallelize(data)\n",
        "\n",
        "revenue_rdd = rdd.map(lambda x: ((x[0], x[1]), x[2]*x[3])).reduceByKey(lambda a, b: a + b)\n",
        "revenue_rdd.collect()"
      ],
      "metadata": {
        "colab": {
          "base_uri": "https://localhost:8080/"
        },
        "id": "YiT4k1a9V6Sw",
        "outputId": "6128b2b0-5189-4f62-de3b-c5889fbce9da"
      },
      "execution_count": null,
      "outputs": [
        {
          "output_type": "execute_result",
          "data": {
            "text/plain": [
              "[(('store1', 'apple'), 20),\n",
              " (('store2', 'apple'), 37.5),\n",
              " (('store1', 'banana'), 30.0),\n",
              " (('store2', 'banana'), 45.0),\n",
              " (('store1', 'watermelon'), 15),\n",
              " (('store2', 'watermelon'), 8)]"
            ]
          },
          "metadata": {},
          "execution_count": 12
        }
      ]
    },
    {
      "cell_type": "code",
      "source": [
        "sc.stop()"
      ],
      "metadata": {
        "id": "3IJ1cnU1XS0u"
      },
      "execution_count": null,
      "outputs": []
    },
    {
      "cell_type": "markdown",
      "source": [
        "### Задание 6. Задание на JOIN по ключу\n",
        "\n"
      ],
      "metadata": {
        "id": "YfvY89yQcPz3"
      }
    },
    {
      "cell_type": "markdown",
      "source": [
        "Даны два набора данных: первый с информацией о продажах (товар, количество) и второй с инфомацией о цене товаров (товар, цена). Необходимо объединить данные и найти общую выручку от продаж каждого товара."
      ],
      "metadata": {
        "id": "eWuNZ88JcUAZ"
      }
    },
    {
      "cell_type": "code",
      "source": [
        "sc = SparkContext(\"local\", \"advanced3\")\n",
        "sales_data = [(\"apple\", 10), (\"banana\", 20), (\"apple\", 15), (\"banana\", 25), (\"peach\", 15), (\"peach\", 25), (\"watermelon\", 5), (\"watermelon\", 10), ]\n",
        "price_data = [(\"apple\", 2), (\"banana\", 1.5), (\"peach\", 2.5), (\"watermelon\", 3.5),]\n",
        "sales_rdd = sc.parallelize(sales_data)\n",
        "price_rdd = sc.parallelize(price_data)\n",
        "joined_rdd = sales_rdd.join(price_rdd)\n",
        "\n",
        "revenue_rdd = joined_rdd.map(lambda x: (x[0], x[1][0] * x[1][1]))\n",
        "revenue_rdd.collect()"
      ],
      "metadata": {
        "colab": {
          "base_uri": "https://localhost:8080/"
        },
        "id": "R3ceBs9_cAId",
        "outputId": "e0ae4147-3ac2-4d68-e9a1-62bbffb42d91"
      },
      "execution_count": null,
      "outputs": [
        {
          "output_type": "execute_result",
          "data": {
            "text/plain": [
              "[('banana', 30.0),\n",
              " ('banana', 37.5),\n",
              " ('peach', 37.5),\n",
              " ('peach', 62.5),\n",
              " ('watermelon', 17.5),\n",
              " ('watermelon', 35.0),\n",
              " ('apple', 20),\n",
              " ('apple', 30)]"
            ]
          },
          "metadata": {},
          "execution_count": 14
        }
      ]
    },
    {
      "cell_type": "code",
      "source": [
        "sc.stop()"
      ],
      "metadata": {
        "id": "C02VojCJcww-"
      },
      "execution_count": null,
      "outputs": []
    },
    {
      "cell_type": "markdown",
      "source": [
        "### Задание 7. поиск самого длинного слова в RDD"
      ],
      "metadata": {
        "id": "6B6r2QibeoIZ"
      }
    },
    {
      "cell_type": "code",
      "source": [
        "sc = SparkContext(\"local\", \"RDD tasks1\")\n",
        "data = [\"Приложение\", \"Яблоко\", \"Спарк\", \"Путеводитель\", \"Метрополитен\", \"Анализ\", \"Солнце\", \"Питон\", \"Снег\", \"Рынок\",]\n",
        "rdd = sc.parallelize(data)\n",
        "longest_word = rdd.max(key=lambda x: len(x))\n",
        "print(\"Самое длинное слово:\", longest_word)"
      ],
      "metadata": {
        "colab": {
          "base_uri": "https://localhost:8080/"
        },
        "id": "XednYnLoeeyV",
        "outputId": "120f69e6-4512-40ee-bd0a-c3de5011d236"
      },
      "execution_count": null,
      "outputs": [
        {
          "output_type": "stream",
          "name": "stdout",
          "text": [
            "Самое длинное слово: Путеводитель\n"
          ]
        }
      ]
    },
    {
      "cell_type": "code",
      "source": [
        "sc.stop()"
      ],
      "metadata": {
        "id": "SlzH6egCfTFF"
      },
      "execution_count": null,
      "outputs": []
    },
    {
      "cell_type": "markdown",
      "source": [
        "### Задание 8. Фильтрация слов по длине в RDD"
      ],
      "metadata": {
        "id": "m4Z72eYffZM4"
      }
    },
    {
      "cell_type": "code",
      "source": [
        "sc = SparkContext(\"local\", \"RDD tasks2\")\n",
        "data = [\"Приложение\", \"Яблоко\", \"Спарк\", \"Путеводитель\", \"Метрополитен\", \"Анализ\", \"Солнце\", \"Питон\", \"Снег\", \"Рынок\",]\n",
        "rdd = sc.parallelize(data)\n",
        "filtered_rdd = rdd.filter(lambda x: len(x) > 6)\n",
        "print(\"Слова, длиной более 6 символов:\", filtered_rdd.collect())"
      ],
      "metadata": {
        "colab": {
          "base_uri": "https://localhost:8080/"
        },
        "id": "-zY8y-FvflYe",
        "outputId": "8d09a7b1-d7d3-4e42-db8d-0ef063f4698c"
      },
      "execution_count": null,
      "outputs": [
        {
          "output_type": "stream",
          "name": "stdout",
          "text": [
            "Слова, длиной более 6 символов: ['Приложение', 'Путеводитель', 'Метрополитен']\n"
          ]
        }
      ]
    },
    {
      "cell_type": "code",
      "source": [
        "sc.stop()"
      ],
      "metadata": {
        "id": "vVnqUGP-fVUy"
      },
      "execution_count": null,
      "outputs": []
    },
    {
      "cell_type": "markdown",
      "source": [
        "### Задание 9. Подсчет колиечества уникальных слов в RDD"
      ],
      "metadata": {
        "id": "CYhSs5cLgGLJ"
      }
    },
    {
      "cell_type": "code",
      "source": [
        "sc = SparkContext(\"local\", \"RDD tasks3\")\n",
        "data = [\"Приложение\", \"Яблоко\", \"Спарк\", \"Путеводитель\", \"Метрополитен\",\n",
        "        \"Анализ\", \"Солнце\", \"Питон\", \"Снег\", \"Рынок\", \"Яблоко\", \"Путеводитель\", \"Анализ\",]\n",
        "rdd = sc.parallelize(data)\n",
        "unique_word_count = rdd.distinct().count()\n",
        "print(\"Количество уникальных слов:\", unique_word_count)"
      ],
      "metadata": {
        "colab": {
          "base_uri": "https://localhost:8080/"
        },
        "id": "bjJ-vuxJgC40",
        "outputId": "0ccc8b10-390a-46fe-ce66-0ccddc53db89"
      },
      "execution_count": null,
      "outputs": [
        {
          "output_type": "stream",
          "name": "stdout",
          "text": [
            "Количество уникальных слов: 10\n"
          ]
        }
      ]
    },
    {
      "cell_type": "code",
      "source": [
        "sc.stop()"
      ],
      "metadata": {
        "id": "HAv9IWC9gPK-"
      },
      "execution_count": null,
      "outputs": []
    },
    {
      "cell_type": "markdown",
      "source": [
        "### Задание 10. Преобразование всех слов в верхний регистр."
      ],
      "metadata": {
        "id": "uuIXl2MOgs34"
      }
    },
    {
      "cell_type": "code",
      "source": [
        "import time\n",
        "import timeit"
      ],
      "metadata": {
        "id": "lqea8ZubhpEi"
      },
      "execution_count": null,
      "outputs": []
    },
    {
      "cell_type": "code",
      "source": [
        "sc = SparkContext(\"local\", \"RDD tasks4\")\n",
        "data = [\"Приложение\", \"Яблоко\", \"Спарк\", \"Путеводитель\", \"Метрополитен\", \"Анализ\", \"Солнце\", \"Питон\", \"Снег\", \"Рынок\",]\n",
        "rdd = sc.parallelize(data)"
      ],
      "metadata": {
        "id": "wQt8r3cWgr6N"
      },
      "execution_count": null,
      "outputs": []
    },
    {
      "cell_type": "code",
      "source": [
        "%%time\n",
        "upper_rdd = rdd.map(lambda x: x.upper())\n",
        "print(\"Слова в верхнем регистре:\", upper_rdd.collect())"
      ],
      "metadata": {
        "colab": {
          "base_uri": "https://localhost:8080/"
        },
        "id": "V99RXiCIh89n",
        "outputId": "8ff780c3-331e-43f1-93a5-acbd300943bb"
      },
      "execution_count": null,
      "outputs": [
        {
          "output_type": "stream",
          "name": "stdout",
          "text": [
            "Слова в верхнем регистре: ['ПРИЛОЖЕНИЕ', 'ЯБЛОКО', 'СПАРК', 'ПУТЕВОДИТЕЛЬ', 'МЕТРОПОЛИТЕН', 'АНАЛИЗ', 'СОЛНЦЕ', 'ПИТОН', 'СНЕГ', 'РЫНОК']\n",
            "CPU times: user 23.7 ms, sys: 3.64 ms, total: 27.4 ms\n",
            "Wall time: 1.22 s\n"
          ]
        }
      ]
    },
    {
      "cell_type": "code",
      "source": [
        "sc.stop()"
      ],
      "metadata": {
        "id": "FaYJCMX3g57A"
      },
      "execution_count": null,
      "outputs": []
    },
    {
      "cell_type": "markdown",
      "source": [
        "### Задание 11. Найти средний возраст пользователей по их покупкам и вывести топ-5 самых молодых"
      ],
      "metadata": {
        "id": "0IawynUzhTaX"
      }
    },
    {
      "cell_type": "code",
      "source": [
        "sc = SparkContext(\"local\", \"User Age\")\n",
        "user_purchase_rdd = sc.parallelize([(1, 25), (2, 30), (3, 20), (4, 35), (5, 28), (6, 22)])\n",
        "user_age_total = user_purchase_rdd.mapValues(lambda age: (age, 1)).reduceByKey(lambda a, b: (a[0] + b[0], a[1] + b[1])).mapValues(lambda v: v[0] / v[1])\n",
        "youngest_users = user_age_total.sortBy(lambda x: x[1]).take(5)\n",
        "for user_id, avg_age in youngest_users:\n",
        "  print(user_id, avg_age)"
      ],
      "metadata": {
        "colab": {
          "base_uri": "https://localhost:8080/"
        },
        "id": "YyX6ZotxhO0k",
        "outputId": "c791220b-99e1-449f-bf10-0a66d6410e31"
      },
      "execution_count": null,
      "outputs": [
        {
          "output_type": "stream",
          "name": "stdout",
          "text": [
            "3 20.0\n",
            "6 22.0\n",
            "1 25.0\n",
            "5 28.0\n",
            "2 30.0\n"
          ]
        }
      ]
    },
    {
      "cell_type": "code",
      "source": [
        "sc.stop()"
      ],
      "metadata": {
        "id": "8n8e4sIhjVrc"
      },
      "execution_count": null,
      "outputs": []
    },
    {
      "cell_type": "markdown",
      "source": [
        "### Задание 12. Найти среднюю цену товара в каждой категории и вывести результат в формате \"Категория: Средняя цена\"."
      ],
      "metadata": {
        "id": "NqJeFoeFjshr"
      }
    },
    {
      "cell_type": "code",
      "source": [
        "sc = SparkContext(\"local\", \"Product price\")\n",
        "product_rdd = sc.parallelize([(1, \"A\", 100), (2, \"B\", 150), (3, \"A\", 120), (4, \"C\", 200), (5, \"B\", 130), (6, \"C\", 140), ])\n",
        "category_total_price = product_rdd.map(lambda x: (x[1], (x[2], 1))).reduceByKey(lambda a, b: (a[0] + b[0], a[1] + b[1])).mapValues(lambda v: v[0] / v[1])\n",
        "for category, avg_price in category_total_price.collect():\n",
        "  print(category, avg_price)"
      ],
      "metadata": {
        "colab": {
          "base_uri": "https://localhost:8080/"
        },
        "id": "sVu-w88BjXJb",
        "outputId": "bb2e2d39-83ff-4ff1-893f-33186b75c78e"
      },
      "execution_count": null,
      "outputs": [
        {
          "output_type": "stream",
          "name": "stdout",
          "text": [
            "A 110.0\n",
            "B 140.0\n",
            "C 170.0\n"
          ]
        }
      ]
    },
    {
      "cell_type": "code",
      "source": [
        "sc.stop()"
      ],
      "metadata": {
        "id": "AoERDLJpkPkV"
      },
      "execution_count": null,
      "outputs": []
    },
    {
      "cell_type": "markdown",
      "source": [
        "### Задание 13. Найти все пары чисел из RDD, сумма которых превышает 100, и вывести их"
      ],
      "metadata": {
        "id": "O4XkI3oGmi0n"
      }
    },
    {
      "cell_type": "code",
      "source": [
        "sc = SparkContext(\"local\", \"NumberPairs\")\n",
        "number_rdd = sc.parallelize([30, 40, 50, 60, 70, 80, 90, 100, 110, 120, 130, 140])\n",
        "number_pairs = number_rdd.cartesian(number_rdd).filter(lambda x: x[0] + x[1] > 100).collect()\n",
        "for pair in number_pairs:\n",
        "  print(pair)"
      ],
      "metadata": {
        "colab": {
          "base_uri": "https://localhost:8080/"
        },
        "id": "i_qO0MNimQrD",
        "outputId": "154ca127-a0d8-4640-9d3d-97a20575c89e"
      },
      "execution_count": null,
      "outputs": [
        {
          "output_type": "stream",
          "name": "stdout",
          "text": [
            "(30, 80)\n",
            "(30, 90)\n",
            "(30, 100)\n",
            "(30, 110)\n",
            "(30, 120)\n",
            "(30, 130)\n",
            "(30, 140)\n",
            "(40, 70)\n",
            "(40, 80)\n",
            "(40, 90)\n",
            "(40, 100)\n",
            "(40, 110)\n",
            "(40, 120)\n",
            "(40, 130)\n",
            "(40, 140)\n",
            "(50, 60)\n",
            "(50, 70)\n",
            "(50, 80)\n",
            "(50, 90)\n",
            "(50, 100)\n",
            "(50, 110)\n",
            "(50, 120)\n",
            "(50, 130)\n",
            "(50, 140)\n",
            "(60, 50)\n",
            "(60, 60)\n",
            "(60, 70)\n",
            "(60, 80)\n",
            "(60, 90)\n",
            "(60, 100)\n",
            "(60, 110)\n",
            "(60, 120)\n",
            "(60, 130)\n",
            "(60, 140)\n",
            "(70, 40)\n",
            "(70, 50)\n",
            "(70, 60)\n",
            "(70, 70)\n",
            "(70, 80)\n",
            "(70, 90)\n",
            "(70, 100)\n",
            "(70, 110)\n",
            "(70, 120)\n",
            "(70, 130)\n",
            "(70, 140)\n",
            "(80, 30)\n",
            "(80, 40)\n",
            "(80, 50)\n",
            "(80, 60)\n",
            "(80, 70)\n",
            "(80, 80)\n",
            "(80, 90)\n",
            "(80, 100)\n",
            "(80, 110)\n",
            "(80, 120)\n",
            "(80, 130)\n",
            "(80, 140)\n",
            "(90, 30)\n",
            "(90, 40)\n",
            "(90, 50)\n",
            "(90, 60)\n",
            "(90, 70)\n",
            "(90, 80)\n",
            "(90, 90)\n",
            "(90, 100)\n",
            "(90, 110)\n",
            "(90, 120)\n",
            "(90, 130)\n",
            "(90, 140)\n",
            "(100, 30)\n",
            "(100, 40)\n",
            "(100, 50)\n",
            "(100, 60)\n",
            "(100, 70)\n",
            "(100, 80)\n",
            "(100, 90)\n",
            "(100, 100)\n",
            "(100, 110)\n",
            "(100, 120)\n",
            "(100, 130)\n",
            "(100, 140)\n",
            "(110, 30)\n",
            "(110, 40)\n",
            "(110, 50)\n",
            "(110, 60)\n",
            "(110, 70)\n",
            "(110, 80)\n",
            "(110, 90)\n",
            "(110, 100)\n",
            "(110, 110)\n",
            "(110, 120)\n",
            "(110, 130)\n",
            "(110, 140)\n",
            "(120, 30)\n",
            "(120, 40)\n",
            "(120, 50)\n",
            "(120, 60)\n",
            "(120, 70)\n",
            "(120, 80)\n",
            "(120, 90)\n",
            "(120, 100)\n",
            "(120, 110)\n",
            "(120, 120)\n",
            "(120, 130)\n",
            "(120, 140)\n",
            "(130, 30)\n",
            "(130, 40)\n",
            "(130, 50)\n",
            "(130, 60)\n",
            "(130, 70)\n",
            "(130, 80)\n",
            "(130, 90)\n",
            "(130, 100)\n",
            "(130, 110)\n",
            "(130, 120)\n",
            "(130, 130)\n",
            "(130, 140)\n",
            "(140, 30)\n",
            "(140, 40)\n",
            "(140, 50)\n",
            "(140, 60)\n",
            "(140, 70)\n",
            "(140, 80)\n",
            "(140, 90)\n",
            "(140, 100)\n",
            "(140, 110)\n",
            "(140, 120)\n",
            "(140, 130)\n",
            "(140, 140)\n"
          ]
        }
      ]
    },
    {
      "cell_type": "code",
      "source": [
        "sc.stop()"
      ],
      "metadata": {
        "id": "W2qPwt5smvn1"
      },
      "execution_count": null,
      "outputs": []
    },
    {
      "cell_type": "markdown",
      "source": [
        "### Бонус"
      ],
      "metadata": {
        "id": "XY4Dy4-LoGLc"
      }
    },
    {
      "cell_type": "markdown",
      "source": [
        "```\n",
        "from pyspark.sql import SparkSession\n",
        "\n",
        "# Создание основной сессии Spark\n",
        "spark = SparkSession.builder \\\n",
        "    .appName(\"MyApp\") \\\n",
        "    .master(\"local[2]\") \\\n",
        "    .config(\"spark.executor.memory\", \"2g\") \\\n",
        "    .getOrCreate()\n",
        "\n",
        "# Создание дополнительной сессии Spark с другой конфигурацией\n",
        "spark2 = spark.newSession() \\\n",
        "    .config(\"spark.executor.memory\", \"1g\") \\\n",
        "    .getOrCreate()\n",
        "# Теперь у вас есть две сессии Spark: spark и spark2 с разными конфигурациями\n",
        "```\n",
        "\n"
      ],
      "metadata": {
        "id": "k8dBA8gxqKdL"
      }
    },
    {
      "cell_type": "markdown",
      "source": [
        "\n",
        "\n",
        "---\n",
        "\n"
      ],
      "metadata": {
        "id": "-Hg-6JcOPvP3"
      }
    },
    {
      "cell_type": "markdown",
      "source": [
        "<a name=\"dz1\"></a>\n",
        "## Домашнее задание\n",
        "### Найти самую длинную последовательность упорядоченных чисел в RDD и вывести ее"
      ],
      "metadata": {
        "id": "taW3JhkzoKAm"
      }
    },
    {
      "cell_type": "code",
      "source": [
        "import random\n",
        "random.seed(20)\n",
        "\n",
        "data = [random.randint(0,10) for _ in range(20)]\n",
        "\n",
        "sc = SparkContext(\"local\", \"LongestSequence\")\n",
        "\n",
        "# Создаем RDD из data\n",
        "rdd = sc.parallelize(data)\n",
        "\n",
        "# Function to identify sequences of ordered numbers\n",
        "# Функция генерирует последовательности упорядоченных чисел и возвращает их\n",
        "def find_sequences(iter):\n",
        "    current_seq = []\n",
        "    for num in iter:\n",
        "        if not current_seq:               # первая итерация current_seq - пустая\n",
        "            current_seq.append(num)\n",
        "        elif num >= current_seq[-1] + 1:  # текущая последовательность\n",
        "            current_seq.append(num)\n",
        "        else:                             # последовательность кончилась\n",
        "            yield current_seq             # начинаем новую\n",
        "            current_seq = [num]\n",
        "    yield current_seq\n",
        "\n",
        "print(\"Исходные данные:\", rdd.collect())\n",
        "# Ищем последовательность упорядоченных чисел в RDD\n",
        "sequences_rdd = rdd.mapPartitions(find_sequences)\n",
        "\n",
        "# Определяем наидлиннейшую последовательность\n",
        "longest_sequence = sequences_rdd.reduce(lambda x, y:\n",
        "                                        x if len(x) > len(y) else y)\n",
        "\n",
        "print(\"Самая длинная последовательность отсортированных чисел в списке:\",\n",
        "       longest_sequence)\n",
        "\n",
        "\n",
        "sc.stop()"
      ],
      "metadata": {
        "colab": {
          "base_uri": "https://localhost:8080/"
        },
        "id": "T7Gm0qUhbWQD",
        "outputId": "e2e3fd3f-1b2a-46b8-8ccf-824b9bcf9c6e"
      },
      "execution_count": null,
      "outputs": [
        {
          "output_type": "stream",
          "name": "stdout",
          "text": [
            "Исходные данные: [10, 2, 4, 10, 10, 1, 5, 9, 2, 0, 6, 6, 1, 1, 2, 5, 7, 9, 7, 6]\n",
            "Самая длинная последовательность отсортированных чисел в списке: [1, 2, 5, 7, 9]\n"
          ]
        }
      ]
    }
  ]
}